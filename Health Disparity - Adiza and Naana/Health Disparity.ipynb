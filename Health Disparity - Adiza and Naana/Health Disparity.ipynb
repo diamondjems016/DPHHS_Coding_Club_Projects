{
 "cells": [
  {
   "cell_type": "markdown",
   "id": "4e243a63",
   "metadata": {},
   "source": [
    "## DPHHS Coding Club\n",
    "## Fall 2022 Project\n",
    "### Adiza and Naana"
   ]
  },
  {
   "cell_type": "code",
   "execution_count": 1,
   "id": "469d2f18",
   "metadata": {},
   "outputs": [],
   "source": [
    "import numpy as np\n",
    "import pandas as pd\n",
    "import matplotlib.pyplot as plt"
   ]
  },
  {
   "cell_type": "markdown",
   "id": "0cdfd30c",
   "metadata": {},
   "source": [
    "#### Get subset of Data"
   ]
  },
  {
   "cell_type": "code",
   "execution_count": 2,
   "id": "73b61918",
   "metadata": {},
   "outputs": [
    {
     "data": {
      "text/plain": [
       "\"# Original Data\\ndf = pd.read_csv('COVID-19_Case_Surveillance_Public_Use_Data.csv')\\n\\n# Randomize\\narr = np.arange(0,len(df))\\nrand_arr = np.random.choice(arr,750000)\\nrand_arr = sorted(rand_arr)\\n\\n# Get subset and save\\ndf_new = df.iloc[rand_arr]\\ndf_new.to_csv('COVID-19_Case_Surveillance_Public_Use_Data_subset.csv')\""
      ]
     },
     "execution_count": 2,
     "metadata": {},
     "output_type": "execute_result"
    }
   ],
   "source": [
    "'''\n",
    "# Original Data\n",
    "df = pd.read_csv('COVID-19_Case_Surveillance_Public_Use_Data.csv')\n",
    "\n",
    "# Randomize\n",
    "arr = np.arange(0,len(df))\n",
    "rand_arr = np.random.choice(arr,750000)\n",
    "rand_arr = sorted(rand_arr)\n",
    "\n",
    "# Get subset and save\n",
    "df_new = df.iloc[rand_arr]\n",
    "df_new.to_csv('COVID-19_Case_Surveillance_Public_Use_Data_subset.csv')\n",
    "'''"
   ]
  },
  {
   "cell_type": "markdown",
   "id": "267be4b0",
   "metadata": {},
   "source": [
    "#### Load dataset"
   ]
  },
  {
   "cell_type": "code",
   "execution_count": null,
   "id": "5134cefd",
   "metadata": {},
   "outputs": [],
   "source": []
  },
  {
   "cell_type": "markdown",
   "id": "34c46308",
   "metadata": {},
   "source": [
    "#### Make Plots"
   ]
  },
  {
   "cell_type": "code",
   "execution_count": null,
   "id": "0af063bf",
   "metadata": {},
   "outputs": [],
   "source": []
  }
 ],
 "metadata": {
  "kernelspec": {
   "display_name": "Python 3 (ipykernel)",
   "language": "python",
   "name": "python3"
  },
  "language_info": {
   "codemirror_mode": {
    "name": "ipython",
    "version": 3
   },
   "file_extension": ".py",
   "mimetype": "text/x-python",
   "name": "python",
   "nbconvert_exporter": "python",
   "pygments_lexer": "ipython3",
   "version": "3.9.7"
  }
 },
 "nbformat": 4,
 "nbformat_minor": 5
}
