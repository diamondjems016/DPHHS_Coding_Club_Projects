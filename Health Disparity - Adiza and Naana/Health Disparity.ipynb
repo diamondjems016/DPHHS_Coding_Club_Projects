{
 "cells": [
  {
   "cell_type": "markdown",
   "id": "4e243a63",
   "metadata": {},
   "source": [
    "## DPHHS Coding Club\n",
    "## Fall 2022 Project\n",
    "### Adiza and Naana"
   ]
  },
  {
   "cell_type": "code",
   "execution_count": 1,
   "id": "469d2f18",
   "metadata": {},
   "outputs": [],
   "source": [
    "import numpy as np\n",
    "import pandas as pd\n",
    "import matplotlib.pyplot as plt"
   ]
  },
  {
   "cell_type": "markdown",
   "id": "0cdfd30c",
   "metadata": {},
   "source": [
    "#### Get subset of Data"
   ]
  },
  {
   "cell_type": "code",
   "execution_count": 2,
   "id": "73b61918",
   "metadata": {},
   "outputs": [
    {
     "data": {
      "text/plain": [
       "\"\\n# Original Data\\ndf = pd.read_csv('COVID-19_Case_Surveillance_Public_Use_Data.csv')\\n\\n# Randomize\\narr = np.arange(0,len(df))\\nrand_arr = np.random.choice(arr,750000)\\nrand_arr = sorted(rand_arr)\\n\\n# Get subset and save\\ndf_new = df.iloc[rand_arr]\\ndf_new.to_csv('COVID-19_Case_Surveillance_Public_Use_Data_subset.csv')\\n\""
      ]
     },
     "execution_count": 2,
     "metadata": {},
     "output_type": "execute_result"
    }
   ],
   "source": [
    "'''\n",
    "# Original Data\n",
    "df = pd.read_csv('COVID-19_Case_Surveillance_Public_Use_Data.csv')\n",
    "\n",
    "# Randomize\n",
    "arr = np.arange(0,len(df))\n",
    "rand_arr = np.random.choice(arr,750000)\n",
    "rand_arr = sorted(rand_arr)\n",
    "\n",
    "# Get subset and save\n",
    "df_new = df.iloc[rand_arr]\n",
    "df_new.to_csv('COVID-19_Case_Surveillance_Public_Use_Data_subset.csv')\n",
    "'''"
   ]
  },
  {
   "cell_type": "markdown",
   "id": "267be4b0",
   "metadata": {},
   "source": [
    "#### Load dataset"
   ]
  },
  {
   "cell_type": "code",
   "execution_count": 3,
   "id": "5134cefd",
   "metadata": {},
   "outputs": [],
   "source": [
    "df = pd.read_csv('COVID-19_Case_Surveillance_Public_Use_Data_subset.csv')"
   ]
  },
  {
   "cell_type": "code",
   "execution_count": 4,
   "id": "432bd7ce",
   "metadata": {},
   "outputs": [
    {
     "name": "stdout",
     "output_type": "stream",
     "text": [
      "        Unnamed: 0 cdc_case_earliest_dt  cdc_report_dt pos_spec_dt  \\\n",
      "0              136            2021/09/26    2021/09/26         NaN   \n",
      "1              223            2021/12/21    2021/12/23         NaN   \n",
      "2              283            2021/07/21    2021/08/05  2021/07/23   \n",
      "3              293            2020/11/15    2020/11/15         NaN   \n",
      "4              462            2020/10/05    2022/02/28         NaN   \n",
      "...            ...                   ...           ...         ...   \n",
      "749995    86008119            2020/11/09    2020/11/24         NaN   \n",
      "749996    86008146            2020/07/15    2022/02/24  2020/07/15   \n",
      "749997    86008272            2021/04/12    2021/04/12  2021/04/12   \n",
      "749998    86008450            2021/08/31    2021/09/20  2021/09/10   \n",
      "749999    86008513            2021/04/24    2021/12/06  2021/04/24   \n",
      "\n",
      "          onset_dt             current_status   sex      age_group  \\\n",
      "0              NaN  Laboratory-confirmed case  Male  60 - 69 Years   \n",
      "1       2021/12/21              Probable Case  Male  60 - 69 Years   \n",
      "2       2021/07/21  Laboratory-confirmed case  Male  60 - 69 Years   \n",
      "3              NaN  Laboratory-confirmed case  Male  60 - 69 Years   \n",
      "4              NaN              Probable Case  Male  60 - 69 Years   \n",
      "...            ...                        ...   ...            ...   \n",
      "749995  2020/11/09  Laboratory-confirmed case  Male  60 - 69 Years   \n",
      "749996         NaN  Laboratory-confirmed case  Male  60 - 69 Years   \n",
      "749997         NaN  Laboratory-confirmed case  Male  60 - 69 Years   \n",
      "749998  2021/08/31  Laboratory-confirmed case  Male  60 - 69 Years   \n",
      "749999  2021/04/24              Probable Case  Male  60 - 69 Years   \n",
      "\n",
      "       race_ethnicity_combined  hosp_yn   icu_yn death_yn medcond_yn  \n",
      "0          White, Non-Hispanic  Missing  Missing  Missing    Missing  \n",
      "1          White, Non-Hispanic  Missing  Missing  Missing    Missing  \n",
      "2          White, Non-Hispanic       No       No       No        Yes  \n",
      "3          White, Non-Hispanic       No  Missing  Unknown    Missing  \n",
      "4          White, Non-Hispanic       No  Missing       No    Missing  \n",
      "...                        ...      ...      ...      ...        ...  \n",
      "749995     White, Non-Hispanic       No       No       No        Yes  \n",
      "749996     White, Non-Hispanic  Unknown  Missing  Unknown    Missing  \n",
      "749997     White, Non-Hispanic  Unknown  Unknown       No    Unknown  \n",
      "749998     White, Non-Hispanic       No  Missing       No         No  \n",
      "749999     White, Non-Hispanic  Unknown  Unknown  Unknown    Unknown  \n",
      "\n",
      "[750000 rows x 13 columns]\n"
     ]
    }
   ],
   "source": [
    "print(df)"
   ]
  },
  {
   "cell_type": "code",
   "execution_count": 5,
   "id": "50422d4e",
   "metadata": {},
   "outputs": [],
   "source": [
    "s = df['sex']\n",
    "age = df['age_group']\n",
    "cs = df['current_status']"
   ]
  },
  {
   "cell_type": "code",
   "execution_count": 6,
   "id": "87e619c0",
   "metadata": {},
   "outputs": [],
   "source": [
    "f = s=='Female'\n",
    "lcc = cs=='Laboratory-confirmed case'"
   ]
  },
  {
   "cell_type": "markdown",
   "id": "34c46308",
   "metadata": {},
   "source": [
    "#### Make Plots"
   ]
  },
  {
   "cell_type": "code",
   "execution_count": null,
   "id": "0af063bf",
   "metadata": {},
   "outputs": [],
   "source": []
  }
 ],
 "metadata": {
  "kernelspec": {
   "display_name": "Python 3 (ipykernel)",
   "language": "python",
   "name": "python3"
  },
  "language_info": {
   "codemirror_mode": {
    "name": "ipython",
    "version": 3
   },
   "file_extension": ".py",
   "mimetype": "text/x-python",
   "name": "python",
   "nbconvert_exporter": "python",
   "pygments_lexer": "ipython3",
   "version": "3.9.7"
  }
 },
 "nbformat": 4,
 "nbformat_minor": 5
}
