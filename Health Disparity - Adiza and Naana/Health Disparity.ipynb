{
 "cells": [
  {
   "cell_type": "markdown",
   "id": "4e243a63",
   "metadata": {},
   "source": [
    "## Project with Adiza and Naana"
   ]
  },
  {
   "cell_type": "code",
   "execution_count": 1,
   "id": "469d2f18",
   "metadata": {},
   "outputs": [],
   "source": [
    "import pandas as pd\n",
    "import numpy as np"
   ]
  },
  {
   "cell_type": "markdown",
   "id": "c289f3b9",
   "metadata": {},
   "source": [
    "#### Get subset of Data"
   ]
  },
  {
   "cell_type": "code",
   "execution_count": 2,
   "id": "a7f042e3",
   "metadata": {},
   "outputs": [],
   "source": [
    "'''# Original Data\n",
    "ds = pd.read_csv('COVID-19_Case_Surveillance_Public_Use_Data.csv')\n",
    "\n",
    "# Randomize\n",
    "arr = np.arange(0,len(ds))\n",
    "rand_arr = np.random.choice(arr,750000)\n",
    "rand_arr = sorted(rand_arr)\n",
    "\n",
    "# Get subset and save\n",
    "ds_new = ds.iloc[rand_arr]\n",
    "ds_new.to_csv('COVID-19_Case_Surveillance_Public_Use_Data_subset.csv')'''"
   ]
  }
 ],
 "metadata": {
  "kernelspec": {
   "display_name": "Python 3 (ipykernel)",
   "language": "python",
   "name": "python3"
  },
  "language_info": {
   "codemirror_mode": {
    "name": "ipython",
    "version": 3
   },
   "file_extension": ".py",
   "mimetype": "text/x-python",
   "name": "python",
   "nbconvert_exporter": "python",
   "pygments_lexer": "ipython3",
   "version": "3.9.7"
  }
 },
 "nbformat": 4,
 "nbformat_minor": 5
}
